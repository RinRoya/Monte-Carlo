{
 "cells": [
  {
   "cell_type": "markdown",
   "metadata": {},
   "source": [
    "## Algoritma Monte-Carlo"
   ]
  },
  {
   "cell_type": "code",
   "execution_count": 20,
   "metadata": {},
   "outputs": [],
   "source": [
    "# Mengimport library random untuk mengakses bilangan acak\n",
    "# Mengimport library math untuk fungsi-fungsi matematika\n",
    "import random\n",
    "import math"
   ]
  },
  {
   "cell_type": "code",
   "execution_count": 22,
   "metadata": {},
   "outputs": [
    {
     "name": "stdout",
     "output_type": "stream",
     "text": [
      "Masukkan batas integrasi bawah: 0\n",
      "Masukkan batas integrasi atas: 3.14\n",
      "Masukkan banyaknya sampel: 10\n"
     ]
    }
   ],
   "source": [
    "# MemasukanInput yang berupa batas integrasi a, b, dan jumlah sampel n\n",
    "a=float(input(\"Masukkan batas integrasi bawah: \"))\n",
    "b=float(input(\"Masukkan batas integrasi atas: \"))\n",
    "n=int(input(\"Masukkan banyaknya sampel: \"))"
   ]
  },
  {
   "cell_type": "code",
   "execution_count": 5,
   "metadata": {},
   "outputs": [],
   "source": [
    "# Mendefinisikan fungsi integran\n",
    "def f(x):\n",
    "#     fungsi = (1/x+math.sqrt(x))**2\n",
    "    fungsi = math.sin(x)\n",
    "    return fungsi"
   ]
  },
  {
   "cell_type": "code",
   "execution_count": 45,
   "metadata": {},
   "outputs": [
    {
     "name": "stdout",
     "output_type": "stream",
     "text": [
      "Batas bawah 0.0\n",
      "Batas atas 3.1415\n",
      "Bilangan acaknya\n",
      "2.937788797273847  2.1096485537279674  1.000525973398962  0.7327517844168199  0.5243300374664085  \n",
      "Untuk jumlah sampel sebanyak  5\n",
      "Hasil integral fungsi tersebut adalah 1.9301\n"
     ]
    }
   ],
   "source": [
    "# Inisialisasi variabel untuk menghitung jumlahan fungsi\n",
    "jumlah=0\n",
    "\n",
    "# Memulai looping penjumlahan fungsi\n",
    "print(\"Batas bawah\",a)\n",
    "print(\"Batas atas\",b)\n",
    "print(\"Bilangan acaknya\")\n",
    "for i in range(n):\n",
    "    \n",
    "#   Membangkitkan bilangan acak berdistribusi seragam pada [a,b]\n",
    "    x=random.uniform(a,b)\n",
    "    print(x,end=\"  \")\n",
    "#   Menghitung nilai jumlahan fungsi\n",
    "    jumlah+=f(x)\n",
    "        \n",
    "# Menghitung hasil integral \n",
    "Y=(b-a)*jumlah/n\n",
    "\n",
    "# Membulatkan sampai 4 digit desimal\n",
    "Y=\"{:.4f}\".format(Y)\n",
    "\n",
    "# Menampilkan hasil output\n",
    "print()\n",
    "print(\"Untuk jumlah sampel sebanyak \",n)\n",
    "print(\"Hasil integral fungsi tersebut adalah\",Y)"
   ]
  },
  {
   "cell_type": "code",
   "execution_count": 5,
   "metadata": {},
   "outputs": [
    {
     "name": "stdout",
     "output_type": "stream",
     "text": [
      "Masukkan batas atas integrasi\t: 0\n",
      "Masukkan batas bawah integrasi\t: 3.14\n",
      "Masukkan banyaknya sampel\t: 10000\n",
      "\n",
      "Hasil integral dari fungsi g(x) = sin(x) \n",
      "dengan batas bawah 0.0 batas atas 3.14 dan banyaknya sampel adalah n \n",
      "dapat dilihat pada tabel berikut ini:\n",
      "\n",
      "n         10000     20000     40000     80000     160000    \n",
      "Y(n)      1.9929    2.0137    2.0054    1.9988    2.0006    \n",
      "\n",
      "dimana Y(n) adalah hasil integral g(x) untuk nilai n yang beragam \n",
      "dari penerapan simulasi Monte-Carlo untuk menduga nilai integral.\n"
     ]
    }
   ],
   "source": [
    "# Mengimport library random untuk mengakses bilangan acak\n",
    "# Mengimport library math untuk mengakses fungsi-fungsi matematika\n",
    "import random\n",
    "import math\n",
    "\n",
    "# MemasukanInput yang berupa batas integrasi a, b, dan jumlah sampel n\n",
    "a=float(input(\"Masukkan batas atas integrasi\\t: \"))\n",
    "b=float(input(\"Masukkan batas bawah integrasi\\t: \"))\n",
    "n=int(input(\"Masukkan banyaknya sampel\\t: \"))\n",
    "\n",
    "# Mendefinisikan fungsi integran g(x)\n",
    "def g(x):\n",
    "    fungsi = math.sin(x)\n",
    "    return fungsi\n",
    "\n",
    "# Method perhitungan pendekatan integral dengan simulasi Monte-Carlo\n",
    "def hitungIntegral(n):\n",
    "    jumlah=0\n",
    "    for i in range(n):\n",
    "        x=random.uniform(a,b)\n",
    "        jumlah+=g(x)\n",
    "    Y=(b-a)*jumlah/n\n",
    "    Y=\"{:.4f}\".format(Y)\n",
    "    return Y\n",
    "\n",
    "print(\"\\nHasil integral dari fungsi g(x) = sin(x) \\ndengan batas bawah\",a,\"batas atas\",b,\n",
    "      \"dan banyaknya sampel adalah n \\ndapat dilihat pada tabel berikut ini:\\n\")\n",
    "\n",
    "print(\"n\".ljust(10),end=\"\")\n",
    "\n",
    "# Menghitung dan menampilkan hasil integral g(x) untuk nilai n yang beragam\n",
    "hasil = []\n",
    "for i in range(5):\n",
    "    hasil.append(hitungIntegral(n))\n",
    "    print(str(n).ljust(10), end=\"\")\n",
    "    n*=2\n",
    "    \n",
    "print()\n",
    "print(\"Y(n)\".ljust(10),end=\"\")\n",
    "\n",
    "for i in range(5):\n",
    "    print(str(hasil[i]).ljust(10), end=\"\")\n",
    "\n",
    "print(\"\\n\")\n",
    "print(\"dimana Y(n) adalah hasil integral g(x) untuk nilai n yang beragam\",\n",
    "      \"\\ndari penerapan simulasi Monte-Carlo untuk menduga nilai integral.\")"
   ]
  },
  {
   "cell_type": "code",
   "execution_count": null,
   "metadata": {},
   "outputs": [],
   "source": []
  }
 ],
 "metadata": {
  "kernelspec": {
   "display_name": "Python 3",
   "language": "python",
   "name": "python3"
  },
  "language_info": {
   "codemirror_mode": {
    "name": "ipython",
    "version": 3
   },
   "file_extension": ".py",
   "mimetype": "text/x-python",
   "name": "python",
   "nbconvert_exporter": "python",
   "pygments_lexer": "ipython3",
   "version": "3.7.0"
  }
 },
 "nbformat": 4,
 "nbformat_minor": 2
}
